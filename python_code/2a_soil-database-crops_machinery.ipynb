{
 "cells": [
  {
   "cell_type": "markdown",
   "metadata": {},
   "source": [
    "#### *Author: Thomas Sonderegger (sonderegger@ifu.baug.ethz.ch)*\n",
    "\n",
    "# Adding crop activities to the soil database\n",
    "\n",
    "This noteboook adds new crop actvities to the \"soilimpacts\" database based on the machinery information in the Excel database.\n"
   ]
  },
  {
   "cell_type": "code",
   "execution_count": 1,
   "metadata": {
    "collapsed": true
   },
   "outputs": [],
   "source": [
    "import brightway2 as bw\n",
    "import pandas as pd\n",
    "from mypackages import bw2_tomfuncs as tf"
   ]
  },
  {
   "cell_type": "code",
   "execution_count": 2,
   "metadata": {
    "collapsed": true
   },
   "outputs": [],
   "source": [
    "bw.projects.set_current('brightway-soil')"
   ]
  },
  {
   "cell_type": "code",
   "execution_count": 3,
   "metadata": {
    "scrolled": true
   },
   "outputs": [
    {
     "data": {
      "text/plain": [
       "Databases dictionary with 3 object(s):\n",
       "\tbiosphere3\n",
       "\tcutoff35\n",
       "\tsoilimpacts"
      ]
     },
     "execution_count": 3,
     "metadata": {},
     "output_type": "execute_result"
    }
   ],
   "source": [
    "bw.databases"
   ]
  },
  {
   "cell_type": "code",
   "execution_count": 4,
   "metadata": {
    "collapsed": true
   },
   "outputs": [],
   "source": [
    "db = bw.Database('cutoff35')\n",
    "bio = bw.Database('biosphere3')\n",
    "db_soil = bw.Database('soilimpacts')"
   ]
  },
  {
   "cell_type": "markdown",
   "metadata": {},
   "source": [
    "The new fieldwork processes are already in the database:"
   ]
  },
  {
   "cell_type": "code",
   "execution_count": 5,
   "metadata": {
    "scrolled": true
   },
   "outputs": [
    {
     "data": {
      "text/plain": [
       "['tillage, currying, by weeder, S' (hectare, GLO, None),\n",
       " 'fertilising, by broadcaster, S' (hectare, GLO, None),\n",
       " 'tillage, cultivating, chiselling, S' (hectare, GLO, None),\n",
       " 'harvesting, transfer trailer, L' (unit, GLO, None),\n",
       " 'sowing, M' (hectare, GLO, None),\n",
       " 'tillage, rolling, M' (hectare, GLO, None),\n",
       " 'tillage, harrowing, by spring tine harrow, S' (hectare, GLO, None),\n",
       " 'harvesting, combine harvesting, M' (hectare, GLO, None),\n",
       " 'tillage, currying, by weeder, L' (hectare, GLO, None),\n",
       " 'tillage, ploughing, L' (hectare, GLO, None),\n",
       " 'application of plant protection product, by field sprayer, S' (hectare, GLO, None),\n",
       " 'tillage, rolling, S' (hectare, GLO, None),\n",
       " 'tillage, harrowing, by rotary harrow, L' (hectare, GLO, None),\n",
       " 'tillage, currying, by weeder, M' (hectare, GLO, None),\n",
       " 'fertilising, by broadcaster, M' (hectare, GLO, None),\n",
       " 'sowing, L' (hectare, GLO, None),\n",
       " 'tillage, rolling, L' (hectare, GLO, None),\n",
       " 'harvesting, transfer trailer, M' (unit, GLO, None),\n",
       " 'harvesting, combine harvesting, S' (hectare, GLO, None),\n",
       " 'tillage, ploughing, S' (hectare, GLO, None),\n",
       " 'tillage, ploughing, M' (hectare, GLO, None),\n",
       " 'tillage, cultivating, chiselling, M' (hectare, GLO, None),\n",
       " 'tillage, harrowing, by spring tine harrow, M' (hectare, GLO, None),\n",
       " 'tillage, cultivating, chiselling, L' (hectare, GLO, None),\n",
       " 'harvesting, transfer trailer, S' (unit, GLO, None),\n",
       " 'application of plant protection product, by field sprayer, M' (hectare, GLO, None),\n",
       " 'harvesting, combine harvesting, L' (hectare, GLO, None),\n",
       " 'sowing, S' (hectare, GLO, None),\n",
       " 'tillage, harrowing, by rotary harrow, M' (hectare, GLO, None),\n",
       " 'tillage, harrowing, by rotary harrow, S' (hectare, GLO, None),\n",
       " 'tillage, harrowing, by spring tine harrow, L' (hectare, GLO, None),\n",
       " 'application of plant protection product, by field sprayer, L' (hectare, GLO, None),\n",
       " 'fertilising, by broadcaster, L' (hectare, GLO, None)]"
      ]
     },
     "execution_count": 5,
     "metadata": {},
     "output_type": "execute_result"
    }
   ],
   "source": [
    "[i for i in db_soil]"
   ]
  },
  {
   "cell_type": "markdown",
   "metadata": {},
   "source": [
    "Create production process from copy:"
   ]
  },
  {
   "cell_type": "code",
   "execution_count": 6,
   "metadata": {
    "collapsed": true
   },
   "outputs": [],
   "source": [
    "def replace_exchanges(na, fw_processses, activity_processes):\n",
    "    \n",
    "    \"\"\"\n",
    "    This function ...\n",
    "    \"\"\"\n",
    "    \n",
    "    classification = 'agricultural means of production/work processes'\n",
    "    omit_list = ['drying', 'grading', 'irrigation', 'milking', 'treatment']\n",
    "    \n",
    "    markets = [exc for exc in na.technosphere() if classification in str(exc.input['classifications'])]    \n",
    "    for omit_name in omit_list:\n",
    "        markets = [exc for exc in markets if omit_name not in str(exc)]\n",
    "\n",
    "\n",
    "    fw_processes_activity = list()\n",
    "    for p in fw_processes:\n",
    "        for m in markets:\n",
    "            if p in str(m):\n",
    "                fw_processes_activity.append(p)\n",
    "                \n",
    "    for p in fw_processes_activity:\n",
    "        market = [exc.input for exc in markets if p in str(exc.input)]\n",
    "        amount = [exc.amount for exc in markets if p in str(exc.input)]\n",
    "        exc = [exc for exc in activity_processes if p in str(exc)]\n",
    "        exc = db_soil.get(exc[0])\n",
    "        new_exc = na.new_exchange(input=exc, amount=amount[0], type='technosphere')\n",
    "        new_exc.save()\n",
    "        \n",
    "    keys = [exc.input.key[1] for exc in markets]\n",
    "    [exc.delete() for exc in na.technosphere() if exc.input.key[1] in keys]\n",
    "    "
   ]
  },
  {
   "cell_type": "code",
   "execution_count": 7,
   "metadata": {
    "collapsed": true
   },
   "outputs": [],
   "source": [
    "def replace_amounts(na, process, amount):\n",
    "    \n",
    "    \"\"\"\n",
    "    This function ...\n",
    "    \"\"\"\n",
    "\n",
    "    exc = db_soil.get(p)\n",
    "    [e.delete() for e in na.technosphere() if exc.key[1] in str(e)]\n",
    "    new_exc = na.new_exchange(input=exc, amount=amount, type='technosphere')\n",
    "    new_exc.save()"
   ]
  },
  {
   "cell_type": "code",
   "execution_count": 8,
   "metadata": {
    "collapsed": true
   },
   "outputs": [],
   "source": [
    "def delete_exchange(na, process):\n",
    "    \n",
    "    \"\"\"\n",
    "    This function ...\n",
    "    \"\"\"\n",
    "\n",
    "    exc = db_soil.get(p)\n",
    "    [e.delete() for e in na.technosphere() if exc.key[1] in str(e)]\n",
    "    new_exc.save()"
   ]
  },
  {
   "cell_type": "code",
   "execution_count": 9,
   "metadata": {
    "collapsed": true
   },
   "outputs": [],
   "source": [
    "def check_exchanges(na):\n",
    "    \n",
    "    \"\"\"\n",
    "    This function ...\n",
    "    \"\"\"\n",
    "    \n",
    "    classification = 'agricultural means of production/work processes'\n",
    "    omit_list = ['drying', 'grading', 'irrigation', 'milking', 'treatment']\n",
    "    \n",
    "    markets = [exc for exc in na.technosphere() if classification in str(exc.input['classifications'])]    \n",
    "    for omit_name in omit_list:\n",
    "        markets = [exc for exc in markets if omit_name not in str(exc)]\n",
    "\n",
    "\n",
    "    return(markets)\n",
    "    "
   ]
  },
  {
   "cell_type": "code",
   "execution_count": 10,
   "metadata": {
    "collapsed": true
   },
   "outputs": [],
   "source": [
    "fw_processes = ['application of plant protection product, by field sprayer',\n",
    "                'combine harvesting',\n",
    "                'fertilising, by broadcaster',\n",
    "                'sowing',\n",
    "                'tillage, cultivating, chiselling',\n",
    "                'tillage, currying, by weeder',\n",
    "                'tillage, harrowing, by rotary harrow',\n",
    "                'tillage, harrowing, by spring tine harrow',\n",
    "                'tillage, ploughing',\n",
    "                'tillage, rolling']"
   ]
  },
  {
   "cell_type": "markdown",
   "metadata": {},
   "source": [
    "Create wheat processes:"
   ]
  },
  {
   "cell_type": "code",
   "execution_count": 11,
   "metadata": {},
   "outputs": [
    {
     "data": {
      "text/plain": [
       "[]"
      ]
     },
     "execution_count": 11,
     "metadata": {},
     "output_type": "execute_result"
    }
   ],
   "source": [
    "[i.delete() for i in db_soil if 'wheat' in str(i)]"
   ]
  },
  {
   "cell_type": "markdown",
   "metadata": {},
   "source": [
    "Small:"
   ]
  },
  {
   "cell_type": "code",
   "execution_count": 12,
   "metadata": {},
   "outputs": [
    {
     "data": {
      "text/plain": [
       "'wheat production' (kilogram, FR, None)"
      ]
     },
     "execution_count": 12,
     "metadata": {},
     "output_type": "execute_result"
    }
   ],
   "source": [
    "act = db.search('wheat grain production FR')[0]\n",
    "act"
   ]
  },
  {
   "cell_type": "code",
   "execution_count": 13,
   "metadata": {
    "collapsed": true
   },
   "outputs": [],
   "source": [
    "na = act.copy()"
   ]
  },
  {
   "cell_type": "code",
   "execution_count": 14,
   "metadata": {},
   "outputs": [
    {
     "name": "stdout",
     "output_type": "stream",
     "text": [
      "Successfully switch activity dataset to database `soilimpacts`\n"
     ]
    }
   ],
   "source": [
    "na['database'] = 'soilimpacts'\n",
    "na['comment'] = \"This dataset is a copy of the ecoinvent dataset 'wheat production'\\\n",
    "                 (kilogram, FR, None)\"\n",
    "na['name'] = 'wheat production, GLO, small'\n",
    "na['unit'] = 'kilogram'\n",
    "na['location'] = 'GLO'\n",
    "na['classifications'] = [('ISIC rev.4 ecoinvent', '0111:Growing of cereals (except rice), leguminous crops and oil seeds')]\n",
    "na.save()"
   ]
  },
  {
   "cell_type": "code",
   "execution_count": 15,
   "metadata": {
    "collapsed": true
   },
   "outputs": [],
   "source": [
    "activity_processes = ['tillage, ploughing, S',\n",
    "                      'tillage, harrowing, by spring tine harrow, S',\n",
    "                      'tillage, harrowing, by rotary harrow, S',\n",
    "                      'tillage, cultivating, chiselling, S',\n",
    "                      'tillage, rolling, S',\n",
    "                      'sowing, S',\n",
    "                      'fertilising, by broadcaster, S',\n",
    "                      'application of plant protection product, by field sprayer, S',\n",
    "                      'harvesting, combine harvesting, S']"
   ]
  },
  {
   "cell_type": "code",
   "execution_count": 16,
   "metadata": {
    "collapsed": true
   },
   "outputs": [],
   "source": [
    "replace_exchanges(na, fw_processes, activity_processes)"
   ]
  },
  {
   "cell_type": "code",
   "execution_count": 17,
   "metadata": {
    "collapsed": true
   },
   "outputs": [],
   "source": [
    "exc = db_soil.search('transfer')[0]\n",
    "new_exc = na.new_exchange(input=exc, amount=1, type='technosphere')\n",
    "new_exc.save()"
   ]
  },
  {
   "cell_type": "code",
   "execution_count": 18,
   "metadata": {},
   "outputs": [
    {
     "data": {
      "text/plain": [
       "[Exchange: 0.00102 hectare 'application of plant protection product, by field sprayer, S' (hectare, GLO, None) to 'wheat production, GLO, small' (kilogram, GLO, None)>,\n",
       " Exchange: 0.00014809 hectare 'harvesting, combine harvesting, S' (hectare, GLO, None) to 'wheat production, GLO, small' (kilogram, GLO, None)>,\n",
       " Exchange: 0.00051831 hectare 'fertilising, by broadcaster, S' (hectare, GLO, None) to 'wheat production, GLO, small' (kilogram, GLO, None)>,\n",
       " Exchange: 0.00014809 hectare 'sowing, S' (hectare, GLO, None) to 'wheat production, GLO, small' (kilogram, GLO, None)>,\n",
       " Exchange: 7.0463e-05 hectare 'tillage, harrowing, by rotary harrow, S' (hectare, GLO, None) to 'wheat production, GLO, small' (kilogram, GLO, None)>,\n",
       " Exchange: 0.00025807 hectare 'tillage, harrowing, by spring tine harrow, S' (hectare, GLO, None) to 'wheat production, GLO, small' (kilogram, GLO, None)>,\n",
       " Exchange: 7.7625e-05 hectare 'tillage, ploughing, S' (hectare, GLO, None) to 'wheat production, GLO, small' (kilogram, GLO, None)>,\n",
       " Exchange: 1 unit 'harvesting, transfer trailer, S' (unit, GLO, None) to 'wheat production, GLO, small' (kilogram, GLO, None)>]"
      ]
     },
     "execution_count": 18,
     "metadata": {},
     "output_type": "execute_result"
    }
   ],
   "source": [
    "check_exchanges(na)"
   ]
  },
  {
   "cell_type": "markdown",
   "metadata": {},
   "source": [
    "Medium:"
   ]
  },
  {
   "cell_type": "code",
   "execution_count": 19,
   "metadata": {},
   "outputs": [
    {
     "data": {
      "text/plain": [
       "'wheat production' (kilogram, FR, None)"
      ]
     },
     "execution_count": 19,
     "metadata": {},
     "output_type": "execute_result"
    }
   ],
   "source": [
    "act = db.search('wheat grain production FR')[0]\n",
    "act"
   ]
  },
  {
   "cell_type": "code",
   "execution_count": 20,
   "metadata": {
    "collapsed": true
   },
   "outputs": [],
   "source": [
    "na = act.copy()"
   ]
  },
  {
   "cell_type": "code",
   "execution_count": 21,
   "metadata": {},
   "outputs": [
    {
     "name": "stdout",
     "output_type": "stream",
     "text": [
      "Successfully switch activity dataset to database `soilimpacts`\n"
     ]
    }
   ],
   "source": [
    "na['database'] = 'soilimpacts'\n",
    "na['comment'] = \"This dataset is a copy of the ecoinvent dataset 'wheat production'\\\n",
    "                 (kilogram, FR, None)\"\n",
    "na['name'] = 'wheat production, GLO, medium'\n",
    "na['unit'] = 'kilogram'\n",
    "na['location'] = 'GLO'\n",
    "na['classifications'] = [('ISIC rev.4 ecoinvent', '0111:Growing of cereals (except rice), leguminous crops and oil seeds')]\n",
    "na.save()"
   ]
  },
  {
   "cell_type": "code",
   "execution_count": 22,
   "metadata": {
    "collapsed": true
   },
   "outputs": [],
   "source": [
    "activity_processes = ['tillage, ploughing, M',\n",
    "                      'tillage, harrowing, by spring tine harrow, M',\n",
    "                      'tillage, harrowing, by rotary harrow, M',\n",
    "                      'tillage, cultivating, chiselling, M',\n",
    "                      'tillage, rolling, M',\n",
    "                      'sowing, M',\n",
    "                      'fertilising, by broadcaster, M',\n",
    "                      'application of plant protection product, by field sprayer, M',\n",
    "                      'harvesting, combine harvesting, M']"
   ]
  },
  {
   "cell_type": "code",
   "execution_count": 23,
   "metadata": {
    "collapsed": true
   },
   "outputs": [],
   "source": [
    "replace_exchanges(na, fw_processes, activity_processes)"
   ]
  },
  {
   "cell_type": "code",
   "execution_count": 24,
   "metadata": {
    "collapsed": true
   },
   "outputs": [],
   "source": [
    "exc = db_soil.search('transfer')[1]\n",
    "new_exc = na.new_exchange(input=exc, amount=1, type='technosphere')\n",
    "new_exc.save()"
   ]
  },
  {
   "cell_type": "code",
   "execution_count": 25,
   "metadata": {},
   "outputs": [
    {
     "data": {
      "text/plain": [
       "[Exchange: 0.00102 hectare 'application of plant protection product, by field sprayer, M' (hectare, GLO, None) to 'wheat production, GLO, medium' (kilogram, GLO, None)>,\n",
       " Exchange: 0.00014809 hectare 'harvesting, combine harvesting, M' (hectare, GLO, None) to 'wheat production, GLO, medium' (kilogram, GLO, None)>,\n",
       " Exchange: 0.00051831 hectare 'fertilising, by broadcaster, M' (hectare, GLO, None) to 'wheat production, GLO, medium' (kilogram, GLO, None)>,\n",
       " Exchange: 0.00014809 hectare 'sowing, M' (hectare, GLO, None) to 'wheat production, GLO, medium' (kilogram, GLO, None)>,\n",
       " Exchange: 7.0463e-05 hectare 'tillage, harrowing, by rotary harrow, M' (hectare, GLO, None) to 'wheat production, GLO, medium' (kilogram, GLO, None)>,\n",
       " Exchange: 0.00025807 hectare 'tillage, harrowing, by spring tine harrow, M' (hectare, GLO, None) to 'wheat production, GLO, medium' (kilogram, GLO, None)>,\n",
       " Exchange: 7.7625e-05 hectare 'tillage, ploughing, M' (hectare, GLO, None) to 'wheat production, GLO, medium' (kilogram, GLO, None)>,\n",
       " Exchange: 1 unit 'harvesting, transfer trailer, L' (unit, GLO, None) to 'wheat production, GLO, medium' (kilogram, GLO, None)>]"
      ]
     },
     "execution_count": 25,
     "metadata": {},
     "output_type": "execute_result"
    }
   ],
   "source": [
    "check_exchanges(na)"
   ]
  },
  {
   "cell_type": "markdown",
   "metadata": {},
   "source": [
    "Large:"
   ]
  },
  {
   "cell_type": "code",
   "execution_count": 26,
   "metadata": {},
   "outputs": [
    {
     "data": {
      "text/plain": [
       "'wheat production' (kilogram, FR, None)"
      ]
     },
     "execution_count": 26,
     "metadata": {},
     "output_type": "execute_result"
    }
   ],
   "source": [
    "act = db.search('wheat grain production FR')[0]\n",
    "act"
   ]
  },
  {
   "cell_type": "code",
   "execution_count": 27,
   "metadata": {
    "collapsed": true
   },
   "outputs": [],
   "source": [
    "na = act.copy()"
   ]
  },
  {
   "cell_type": "code",
   "execution_count": 28,
   "metadata": {},
   "outputs": [
    {
     "name": "stdout",
     "output_type": "stream",
     "text": [
      "Successfully switch activity dataset to database `soilimpacts`\n"
     ]
    }
   ],
   "source": [
    "na['database'] = 'soilimpacts'\n",
    "na['comment'] = \"This dataset is a copy of the ecoinvent dataset 'wheat production'\\\n",
    "                 (kilogram, FR, None)\"\n",
    "na['name'] = 'wheat production, GLO, large'\n",
    "na['unit'] = 'kilogram'\n",
    "na['location'] = 'GLO'\n",
    "na['classifications'] = [('ISIC rev.4 ecoinvent', '0111:Growing of cereals (except rice), leguminous crops and oil seeds')]\n",
    "na.save()"
   ]
  },
  {
   "cell_type": "code",
   "execution_count": 29,
   "metadata": {
    "collapsed": true
   },
   "outputs": [],
   "source": [
    "activity_processes = ['tillage, ploughing, L',\n",
    "                      'tillage, harrowing, by spring tine harrow, L',\n",
    "                      'tillage, harrowing, by rotary harrow, L',\n",
    "                      'tillage, cultivating, chiselling, L',\n",
    "                      'tillage, rolling, L',\n",
    "                      'sowing, L',\n",
    "                      'fertilising, by broadcaster, L',\n",
    "                      'application of plant protection product, by field sprayer, L',\n",
    "                      'harvesting, combine harvesting, L']"
   ]
  },
  {
   "cell_type": "code",
   "execution_count": 30,
   "metadata": {
    "collapsed": true
   },
   "outputs": [],
   "source": [
    "replace_exchanges(na, fw_processes, activity_processes)"
   ]
  },
  {
   "cell_type": "code",
   "execution_count": 31,
   "metadata": {
    "collapsed": true
   },
   "outputs": [],
   "source": [
    "exc = db_soil.search('transfer')[2]\n",
    "new_exc = na.new_exchange(input=exc, amount=1, type='technosphere')\n",
    "new_exc.save()"
   ]
  },
  {
   "cell_type": "code",
   "execution_count": 32,
   "metadata": {},
   "outputs": [
    {
     "data": {
      "text/plain": [
       "[Exchange: 0.00102 hectare 'application of plant protection product, by field sprayer, L' (hectare, GLO, None) to 'wheat production, GLO, large' (kilogram, GLO, None)>,\n",
       " Exchange: 0.00014809 hectare 'harvesting, combine harvesting, L' (hectare, GLO, None) to 'wheat production, GLO, large' (kilogram, GLO, None)>,\n",
       " Exchange: 0.00051831 hectare 'fertilising, by broadcaster, L' (hectare, GLO, None) to 'wheat production, GLO, large' (kilogram, GLO, None)>,\n",
       " Exchange: 0.00014809 hectare 'sowing, L' (hectare, GLO, None) to 'wheat production, GLO, large' (kilogram, GLO, None)>,\n",
       " Exchange: 7.0463e-05 hectare 'tillage, harrowing, by rotary harrow, L' (hectare, GLO, None) to 'wheat production, GLO, large' (kilogram, GLO, None)>,\n",
       " Exchange: 0.00025807 hectare 'tillage, harrowing, by spring tine harrow, L' (hectare, GLO, None) to 'wheat production, GLO, large' (kilogram, GLO, None)>,\n",
       " Exchange: 7.7625e-05 hectare 'tillage, ploughing, L' (hectare, GLO, None) to 'wheat production, GLO, large' (kilogram, GLO, None)>,\n",
       " Exchange: 1 unit 'harvesting, transfer trailer, S' (unit, GLO, None) to 'wheat production, GLO, large' (kilogram, GLO, None)>]"
      ]
     },
     "execution_count": 32,
     "metadata": {},
     "output_type": "execute_result"
    }
   ],
   "source": [
    "check_exchanges(na)"
   ]
  },
  {
   "cell_type": "markdown",
   "metadata": {},
   "source": [
    "Create maize processes:"
   ]
  },
  {
   "cell_type": "code",
   "execution_count": 33,
   "metadata": {
    "scrolled": true
   },
   "outputs": [
    {
     "data": {
      "text/plain": [
       "[]"
      ]
     },
     "execution_count": 33,
     "metadata": {},
     "output_type": "execute_result"
    }
   ],
   "source": [
    "[i.delete() for i in db_soil if 'maize' in str(i)]"
   ]
  },
  {
   "cell_type": "markdown",
   "metadata": {},
   "source": [
    "Small:"
   ]
  },
  {
   "cell_type": "code",
   "execution_count": 34,
   "metadata": {},
   "outputs": [
    {
     "data": {
      "text/plain": [
       "'maize grain production' (kilogram, RoW, None)"
      ]
     },
     "execution_count": 34,
     "metadata": {},
     "output_type": "execute_result"
    }
   ],
   "source": [
    "act = db.search('maize grain production RoW')[0]\n",
    "act"
   ]
  },
  {
   "cell_type": "code",
   "execution_count": 35,
   "metadata": {
    "collapsed": true
   },
   "outputs": [],
   "source": [
    "na = act.copy()"
   ]
  },
  {
   "cell_type": "code",
   "execution_count": 36,
   "metadata": {},
   "outputs": [
    {
     "name": "stdout",
     "output_type": "stream",
     "text": [
      "Successfully switch activity dataset to database `soilimpacts`\n"
     ]
    }
   ],
   "source": [
    "na['database'] = 'soilimpacts'\n",
    "na['comment'] = \"This dataset is a copy of the ecoinvent dataset 'maize grain production'\\\n",
    "                 (kilogram, RoW, None) for which machinery has been adapted\"\n",
    "na['name'] = 'maize grain production, GLO, small'\n",
    "na['unit'] = 'kilogram'\n",
    "na['location'] = 'GLO'\n",
    "na['classifications'] = [('ISIC rev.4 ecoinvent', '0111:Growing of cereals (except rice), leguminous crops and oil seeds')]\n",
    "na.save()"
   ]
  },
  {
   "cell_type": "code",
   "execution_count": 37,
   "metadata": {
    "collapsed": true
   },
   "outputs": [],
   "source": [
    "activity_processes = ['tillage, ploughing, S',\n",
    "                      'tillage, harrowing, by spring tine harrow, S',\n",
    "                      'tillage, cultivating, chiselling, S',\n",
    "                      'tillage, currying, by weeder, S',\n",
    "                      'sowing, S',\n",
    "                      'fertilising, by broadcaster, S',\n",
    "                      'application of plant protection product, by field sprayer, S',\n",
    "                      'harvesting, combine harvesting, S']"
   ]
  },
  {
   "cell_type": "code",
   "execution_count": 38,
   "metadata": {
    "collapsed": true
   },
   "outputs": [],
   "source": [
    "replace_exchanges(na, fw_processes, activity_processes)"
   ]
  },
  {
   "cell_type": "code",
   "execution_count": 39,
   "metadata": {
    "collapsed": true
   },
   "outputs": [],
   "source": [
    "exc = db_soil.search('transfer')[0]\n",
    "new_exc = na.new_exchange(input=exc, amount=1, type='technosphere')\n",
    "new_exc.save()"
   ]
  },
  {
   "cell_type": "markdown",
   "metadata": {},
   "source": [
    "Set exchange amounts of fieldwork processes to 1:"
   ]
  },
  {
   "cell_type": "code",
   "execution_count": 40,
   "metadata": {
    "collapsed": true
   },
   "outputs": [],
   "source": [
    "for a in activity_processes:\n",
    "    act = [exc.input for exc in na.technosphere() if a in str(exc)][0]\n",
    "    [exc.delete() for exc in na.technosphere() if a in str(exc)]\n",
    "    new_amount = na.new_exchange(input=act, amount=1/9315, type='technosphere')\n",
    "    new_amount.save()"
   ]
  },
  {
   "cell_type": "markdown",
   "metadata": {},
   "source": [
    "Adjust amounts:"
   ]
  },
  {
   "cell_type": "code",
   "execution_count": 41,
   "metadata": {
    "collapsed": true
   },
   "outputs": [],
   "source": [
    "p = 'tillage, cultivating, chiselling, S'"
   ]
  },
  {
   "cell_type": "code",
   "execution_count": 42,
   "metadata": {
    "collapsed": true
   },
   "outputs": [],
   "source": [
    "delete_exchange(na, p)"
   ]
  },
  {
   "cell_type": "code",
   "execution_count": 43,
   "metadata": {
    "collapsed": true
   },
   "outputs": [],
   "source": [
    "p = 'tillage, currying, by weeder, S'"
   ]
  },
  {
   "cell_type": "code",
   "execution_count": 44,
   "metadata": {
    "collapsed": true
   },
   "outputs": [],
   "source": [
    "delete_exchange(na, p)"
   ]
  },
  {
   "cell_type": "code",
   "execution_count": 45,
   "metadata": {
    "collapsed": true
   },
   "outputs": [],
   "source": [
    "p = 'tillage, harrowing, by spring tine harrow, S'\n",
    "a = 1/9315*2"
   ]
  },
  {
   "cell_type": "code",
   "execution_count": 46,
   "metadata": {
    "collapsed": true
   },
   "outputs": [],
   "source": [
    "replace_amounts(na, p, a)"
   ]
  },
  {
   "cell_type": "code",
   "execution_count": 47,
   "metadata": {},
   "outputs": [
    {
     "data": {
      "text/plain": [
       "[Exchange: 1 unit 'harvesting, transfer trailer, M' (unit, GLO, None) to 'maize grain production, GLO, small' (kilogram, GLO, None)>,\n",
       " Exchange: 0.00010735373054213633 hectare 'tillage, ploughing, S' (hectare, GLO, None) to 'maize grain production, GLO, small' (kilogram, GLO, None)>,\n",
       " Exchange: 0.00010735373054213633 hectare 'sowing, S' (hectare, GLO, None) to 'maize grain production, GLO, small' (kilogram, GLO, None)>,\n",
       " Exchange: 0.00010735373054213633 hectare 'fertilising, by broadcaster, S' (hectare, GLO, None) to 'maize grain production, GLO, small' (kilogram, GLO, None)>,\n",
       " Exchange: 0.00010735373054213633 hectare 'application of plant protection product, by field sprayer, S' (hectare, GLO, None) to 'maize grain production, GLO, small' (kilogram, GLO, None)>,\n",
       " Exchange: 0.00010735373054213633 hectare 'harvesting, combine harvesting, S' (hectare, GLO, None) to 'maize grain production, GLO, small' (kilogram, GLO, None)>,\n",
       " Exchange: 0.00021470746108427267 hectare 'tillage, harrowing, by spring tine harrow, S' (hectare, GLO, None) to 'maize grain production, GLO, small' (kilogram, GLO, None)>]"
      ]
     },
     "execution_count": 47,
     "metadata": {},
     "output_type": "execute_result"
    }
   ],
   "source": [
    "check_exchanges(na)"
   ]
  },
  {
   "cell_type": "markdown",
   "metadata": {},
   "source": [
    "Medium:"
   ]
  },
  {
   "cell_type": "code",
   "execution_count": 48,
   "metadata": {},
   "outputs": [
    {
     "data": {
      "text/plain": [
       "'maize grain production' (kilogram, RoW, None)"
      ]
     },
     "execution_count": 48,
     "metadata": {},
     "output_type": "execute_result"
    }
   ],
   "source": [
    "act = db.search('maize grain production RoW')[0]\n",
    "act"
   ]
  },
  {
   "cell_type": "code",
   "execution_count": 49,
   "metadata": {
    "collapsed": true
   },
   "outputs": [],
   "source": [
    "na = act.copy()"
   ]
  },
  {
   "cell_type": "code",
   "execution_count": 50,
   "metadata": {},
   "outputs": [
    {
     "name": "stdout",
     "output_type": "stream",
     "text": [
      "Successfully switch activity dataset to database `soilimpacts`\n"
     ]
    }
   ],
   "source": [
    "na['database'] = 'soilimpacts'\n",
    "na['comment'] = \"This dataset is a copy of the ecoinvent dataset 'maize grain production'\\\n",
    "                 (kilogram, RoW, None) for which machinery has been adapted\"\n",
    "na['name'] = 'maize grain production, GLO, medium'\n",
    "na['unit'] = 'kilogram'\n",
    "na['location'] = 'GLO'\n",
    "na['classifications'] = [('ISIC rev.4 ecoinvent', '0111:Growing of cereals (except rice), leguminous crops and oil seeds')]\n",
    "na.save()"
   ]
  },
  {
   "cell_type": "code",
   "execution_count": 51,
   "metadata": {
    "collapsed": true
   },
   "outputs": [],
   "source": [
    "activity_processes = ['tillage, ploughing, M',\n",
    "                      'tillage, harrowing, by spring tine harrow, M',\n",
    "                      'tillage, cultivating, chiselling, M',\n",
    "                      'tillage, currying, by weeder, M',\n",
    "                      'sowing, M',\n",
    "                      'fertilising, by broadcaster, M',\n",
    "                      'application of plant protection product, by field sprayer, M',\n",
    "                      'harvesting, combine harvesting, M']"
   ]
  },
  {
   "cell_type": "code",
   "execution_count": 52,
   "metadata": {
    "collapsed": true
   },
   "outputs": [],
   "source": [
    "replace_exchanges(na, fw_processes, activity_processes)"
   ]
  },
  {
   "cell_type": "code",
   "execution_count": 53,
   "metadata": {
    "collapsed": true
   },
   "outputs": [],
   "source": [
    "exc = db_soil.search('transfer')[1]\n",
    "new_exc = na.new_exchange(input=exc, amount=1, type='technosphere')\n",
    "new_exc.save()"
   ]
  },
  {
   "cell_type": "code",
   "execution_count": 54,
   "metadata": {
    "collapsed": true
   },
   "outputs": [],
   "source": [
    "for a in activity_processes:\n",
    "    act = [exc.input for exc in na.technosphere() if a in str(exc)][0]\n",
    "    [exc.delete() for exc in na.technosphere() if a in str(exc)]\n",
    "    new_amount = na.new_exchange(input=act, amount=1/9315, type='technosphere')\n",
    "    new_amount.save()"
   ]
  },
  {
   "cell_type": "code",
   "execution_count": 55,
   "metadata": {
    "collapsed": true
   },
   "outputs": [],
   "source": [
    "p = 'tillage, cultivating, chiselling, M'"
   ]
  },
  {
   "cell_type": "code",
   "execution_count": 56,
   "metadata": {
    "collapsed": true
   },
   "outputs": [],
   "source": [
    "delete_exchange(na, p)"
   ]
  },
  {
   "cell_type": "code",
   "execution_count": 57,
   "metadata": {
    "collapsed": true
   },
   "outputs": [],
   "source": [
    "p = 'tillage, currying, by weeder, M'"
   ]
  },
  {
   "cell_type": "code",
   "execution_count": 58,
   "metadata": {
    "collapsed": true
   },
   "outputs": [],
   "source": [
    "delete_exchange(na, p)"
   ]
  },
  {
   "cell_type": "code",
   "execution_count": 59,
   "metadata": {
    "collapsed": true
   },
   "outputs": [],
   "source": [
    "p = 'tillage, harrowing, by spring tine harrow, M'\n",
    "a = 1/9315*2"
   ]
  },
  {
   "cell_type": "code",
   "execution_count": 60,
   "metadata": {
    "collapsed": true
   },
   "outputs": [],
   "source": [
    "replace_amounts(na, p, a)"
   ]
  },
  {
   "cell_type": "code",
   "execution_count": 61,
   "metadata": {},
   "outputs": [
    {
     "data": {
      "text/plain": [
       "[Exchange: 1 unit 'harvesting, transfer trailer, L' (unit, GLO, None) to 'maize grain production, GLO, medium' (kilogram, GLO, None)>,\n",
       " Exchange: 0.00010735373054213633 hectare 'tillage, ploughing, M' (hectare, GLO, None) to 'maize grain production, GLO, medium' (kilogram, GLO, None)>,\n",
       " Exchange: 0.00010735373054213633 hectare 'sowing, M' (hectare, GLO, None) to 'maize grain production, GLO, medium' (kilogram, GLO, None)>,\n",
       " Exchange: 0.00010735373054213633 hectare 'fertilising, by broadcaster, M' (hectare, GLO, None) to 'maize grain production, GLO, medium' (kilogram, GLO, None)>,\n",
       " Exchange: 0.00010735373054213633 hectare 'application of plant protection product, by field sprayer, M' (hectare, GLO, None) to 'maize grain production, GLO, medium' (kilogram, GLO, None)>,\n",
       " Exchange: 0.00010735373054213633 hectare 'harvesting, combine harvesting, M' (hectare, GLO, None) to 'maize grain production, GLO, medium' (kilogram, GLO, None)>,\n",
       " Exchange: 0.00021470746108427267 hectare 'tillage, harrowing, by spring tine harrow, M' (hectare, GLO, None) to 'maize grain production, GLO, medium' (kilogram, GLO, None)>]"
      ]
     },
     "execution_count": 61,
     "metadata": {},
     "output_type": "execute_result"
    }
   ],
   "source": [
    "check_exchanges(na)"
   ]
  },
  {
   "cell_type": "markdown",
   "metadata": {},
   "source": [
    "Large:"
   ]
  },
  {
   "cell_type": "code",
   "execution_count": 62,
   "metadata": {},
   "outputs": [
    {
     "data": {
      "text/plain": [
       "'maize grain production' (kilogram, RoW, None)"
      ]
     },
     "execution_count": 62,
     "metadata": {},
     "output_type": "execute_result"
    }
   ],
   "source": [
    "act = db.search('maize grain production RoW')[0]\n",
    "act"
   ]
  },
  {
   "cell_type": "code",
   "execution_count": 63,
   "metadata": {
    "collapsed": true
   },
   "outputs": [],
   "source": [
    "na = act.copy()"
   ]
  },
  {
   "cell_type": "code",
   "execution_count": 64,
   "metadata": {},
   "outputs": [
    {
     "name": "stdout",
     "output_type": "stream",
     "text": [
      "Successfully switch activity dataset to database `soilimpacts`\n"
     ]
    }
   ],
   "source": [
    "na['database'] = 'soilimpacts'\n",
    "na['comment'] = \"This dataset is a copy of the ecoinvent dataset 'maize grain production'\\\n",
    "                 (kilogram, RoW, None) for which machinery has been adapted\"\n",
    "na['name'] = 'maize grain production, GLO, large'\n",
    "na['unit'] = 'kilogram'\n",
    "na['location'] = 'GLO'\n",
    "na['classifications'] = [('ISIC rev.4 ecoinvent', '0111:Growing of cereals (except rice), leguminous crops and oil seeds')]\n",
    "na.save()"
   ]
  },
  {
   "cell_type": "code",
   "execution_count": 65,
   "metadata": {
    "collapsed": true
   },
   "outputs": [],
   "source": [
    "activity_processes = ['tillage, ploughing, L',\n",
    "                      'tillage, harrowing, by spring tine harrow, L',\n",
    "                      'tillage, cultivating, chiselling, L',\n",
    "                      'tillage, currying, by weeder, L',\n",
    "                      'sowing, L',\n",
    "                      'fertilising, by broadcaster, L',\n",
    "                      'application of plant protection product, by field sprayer, L',\n",
    "                      'harvesting, combine harvesting, L']"
   ]
  },
  {
   "cell_type": "code",
   "execution_count": 66,
   "metadata": {
    "collapsed": true
   },
   "outputs": [],
   "source": [
    "replace_exchanges(na, fw_processes, activity_processes)"
   ]
  },
  {
   "cell_type": "code",
   "execution_count": 67,
   "metadata": {
    "collapsed": true
   },
   "outputs": [],
   "source": [
    "exc = db_soil.search('transfer')[2]\n",
    "new_exc = na.new_exchange(input=exc, amount=1, type='technosphere')\n",
    "new_exc.save()"
   ]
  },
  {
   "cell_type": "code",
   "execution_count": 68,
   "metadata": {
    "collapsed": true
   },
   "outputs": [],
   "source": [
    "for a in activity_processes:\n",
    "    act = [exc.input for exc in na.technosphere() if a in str(exc)][0]\n",
    "    [exc.delete() for exc in na.technosphere() if a in str(exc)]\n",
    "    new_amount = na.new_exchange(input=act, amount=1/9315, type='technosphere')\n",
    "    new_amount.save()"
   ]
  },
  {
   "cell_type": "code",
   "execution_count": 69,
   "metadata": {
    "collapsed": true
   },
   "outputs": [],
   "source": [
    "p = 'tillage, cultivating, chiselling, L'"
   ]
  },
  {
   "cell_type": "code",
   "execution_count": 70,
   "metadata": {
    "collapsed": true
   },
   "outputs": [],
   "source": [
    "delete_exchange(na, p)"
   ]
  },
  {
   "cell_type": "code",
   "execution_count": 71,
   "metadata": {
    "collapsed": true
   },
   "outputs": [],
   "source": [
    "p = 'tillage, currying, by weeder, L'"
   ]
  },
  {
   "cell_type": "code",
   "execution_count": 72,
   "metadata": {
    "collapsed": true
   },
   "outputs": [],
   "source": [
    "delete_exchange(na, p)"
   ]
  },
  {
   "cell_type": "code",
   "execution_count": 73,
   "metadata": {
    "collapsed": true
   },
   "outputs": [],
   "source": [
    "p = 'tillage, harrowing, by spring tine harrow, L'\n",
    "a = 1/9315*2"
   ]
  },
  {
   "cell_type": "code",
   "execution_count": 74,
   "metadata": {
    "collapsed": true
   },
   "outputs": [],
   "source": [
    "replace_amounts(na, p, a)"
   ]
  },
  {
   "cell_type": "code",
   "execution_count": 75,
   "metadata": {},
   "outputs": [
    {
     "data": {
      "text/plain": [
       "[Exchange: 1 unit 'harvesting, transfer trailer, S' (unit, GLO, None) to 'maize grain production, GLO, large' (kilogram, GLO, None)>,\n",
       " Exchange: 0.00010735373054213633 hectare 'tillage, ploughing, L' (hectare, GLO, None) to 'maize grain production, GLO, large' (kilogram, GLO, None)>,\n",
       " Exchange: 0.00010735373054213633 hectare 'sowing, L' (hectare, GLO, None) to 'maize grain production, GLO, large' (kilogram, GLO, None)>,\n",
       " Exchange: 0.00010735373054213633 hectare 'fertilising, by broadcaster, L' (hectare, GLO, None) to 'maize grain production, GLO, large' (kilogram, GLO, None)>,\n",
       " Exchange: 0.00010735373054213633 hectare 'application of plant protection product, by field sprayer, L' (hectare, GLO, None) to 'maize grain production, GLO, large' (kilogram, GLO, None)>,\n",
       " Exchange: 0.00010735373054213633 hectare 'harvesting, combine harvesting, L' (hectare, GLO, None) to 'maize grain production, GLO, large' (kilogram, GLO, None)>,\n",
       " Exchange: 0.00021470746108427267 hectare 'tillage, harrowing, by spring tine harrow, L' (hectare, GLO, None) to 'maize grain production, GLO, large' (kilogram, GLO, None)>]"
      ]
     },
     "execution_count": 75,
     "metadata": {},
     "output_type": "execute_result"
    }
   ],
   "source": [
    "check_exchanges(na)"
   ]
  },
  {
   "cell_type": "markdown",
   "metadata": {},
   "source": [
    "Create soybean processes:"
   ]
  },
  {
   "cell_type": "code",
   "execution_count": 76,
   "metadata": {},
   "outputs": [
    {
     "data": {
      "text/plain": [
       "[]"
      ]
     },
     "execution_count": 76,
     "metadata": {},
     "output_type": "execute_result"
    }
   ],
   "source": [
    "[i.delete() for i in db_soil if 'soybean' in str(i)]"
   ]
  },
  {
   "cell_type": "markdown",
   "metadata": {},
   "source": [
    "Small:"
   ]
  },
  {
   "cell_type": "code",
   "execution_count": 77,
   "metadata": {},
   "outputs": [
    {
     "data": {
      "text/plain": [
       "'soybean production' (kilogram, RoW, None)"
      ]
     },
     "execution_count": 77,
     "metadata": {},
     "output_type": "execute_result"
    }
   ],
   "source": [
    "act = db.search('soybean production RoW')[0]\n",
    "act"
   ]
  },
  {
   "cell_type": "code",
   "execution_count": 78,
   "metadata": {
    "collapsed": true
   },
   "outputs": [],
   "source": [
    "na = act.copy()"
   ]
  },
  {
   "cell_type": "code",
   "execution_count": 79,
   "metadata": {},
   "outputs": [
    {
     "name": "stdout",
     "output_type": "stream",
     "text": [
      "Successfully switch activity dataset to database `soilimpacts`\n"
     ]
    }
   ],
   "source": [
    "na['database'] = 'soilimpacts'\n",
    "na['comment'] = \"This dataset is a copy of the ecoinvent dataset 'soybean production'\\\n",
    "                 (kilogram, RoW, None) for which machinery has been adapted\"\n",
    "na['name'] = 'soybean production, GLO, small'\n",
    "na['unit'] = 'kilogram'\n",
    "na['location'] = 'GLO'\n",
    "na['classifications'] = [('ISIC rev.4 ecoinvent', '0111:Growing of cereals (except rice), leguminous crops and oil seeds')]\n",
    "na.save()"
   ]
  },
  {
   "cell_type": "code",
   "execution_count": 80,
   "metadata": {
    "collapsed": true
   },
   "outputs": [],
   "source": [
    "activity_processes = ['tillage, ploughing, S',\n",
    "                      'tillage, harrowing, by spring tine harrow, S',\n",
    "                      'sowing, S',\n",
    "                      'fertilising, by broadcaster, S',\n",
    "                      'application of plant protection product, by field sprayer, S',\n",
    "                      'harvesting, combine harvesting, S']"
   ]
  },
  {
   "cell_type": "code",
   "execution_count": 81,
   "metadata": {
    "collapsed": true
   },
   "outputs": [],
   "source": [
    "replace_exchanges(na, fw_processes, activity_processes)"
   ]
  },
  {
   "cell_type": "code",
   "execution_count": 82,
   "metadata": {
    "collapsed": true
   },
   "outputs": [],
   "source": [
    "exc = db_soil.search('transfer')[0]\n",
    "new_exc = na.new_exchange(input=exc, amount=1, type='technosphere')\n",
    "new_exc.save()"
   ]
  },
  {
   "cell_type": "code",
   "execution_count": 83,
   "metadata": {
    "collapsed": true
   },
   "outputs": [],
   "source": [
    "for a in activity_processes:\n",
    "    act = [exc.input for exc in na.technosphere() if a in str(exc)][0]\n",
    "    [exc.delete() for exc in na.technosphere() if a in str(exc)]\n",
    "    new_amount = na.new_exchange(input=act, amount=1/2600, type='technosphere')\n",
    "    new_amount.save()"
   ]
  },
  {
   "cell_type": "code",
   "execution_count": 84,
   "metadata": {
    "collapsed": true
   },
   "outputs": [],
   "source": [
    "p = 'tillage, ploughing, S'\n",
    "a = 1/2600/4"
   ]
  },
  {
   "cell_type": "code",
   "execution_count": 85,
   "metadata": {
    "collapsed": true
   },
   "outputs": [],
   "source": [
    "replace_amounts(na, p, a)"
   ]
  },
  {
   "cell_type": "code",
   "execution_count": 86,
   "metadata": {},
   "outputs": [
    {
     "data": {
      "text/plain": [
       "[Exchange: 1 unit 'harvesting, transfer trailer, M' (unit, GLO, None) to 'soybean production, GLO, small' (kilogram, GLO, None)>,\n",
       " Exchange: 0.0003846153846153846 hectare 'tillage, harrowing, by spring tine harrow, S' (hectare, GLO, None) to 'soybean production, GLO, small' (kilogram, GLO, None)>,\n",
       " Exchange: 0.0003846153846153846 hectare 'sowing, S' (hectare, GLO, None) to 'soybean production, GLO, small' (kilogram, GLO, None)>,\n",
       " Exchange: 0.0003846153846153846 hectare 'fertilising, by broadcaster, S' (hectare, GLO, None) to 'soybean production, GLO, small' (kilogram, GLO, None)>,\n",
       " Exchange: 0.0003846153846153846 hectare 'application of plant protection product, by field sprayer, S' (hectare, GLO, None) to 'soybean production, GLO, small' (kilogram, GLO, None)>,\n",
       " Exchange: 0.0003846153846153846 hectare 'harvesting, combine harvesting, S' (hectare, GLO, None) to 'soybean production, GLO, small' (kilogram, GLO, None)>,\n",
       " Exchange: 9.615384615384615e-05 hectare 'tillage, ploughing, S' (hectare, GLO, None) to 'soybean production, GLO, small' (kilogram, GLO, None)>]"
      ]
     },
     "execution_count": 86,
     "metadata": {},
     "output_type": "execute_result"
    }
   ],
   "source": [
    "check_exchanges(na)"
   ]
  },
  {
   "cell_type": "markdown",
   "metadata": {},
   "source": [
    "Medium:"
   ]
  },
  {
   "cell_type": "code",
   "execution_count": 87,
   "metadata": {},
   "outputs": [
    {
     "data": {
      "text/plain": [
       "'soybean production' (kilogram, RoW, None)"
      ]
     },
     "execution_count": 87,
     "metadata": {},
     "output_type": "execute_result"
    }
   ],
   "source": [
    "act = db.search('soybean production RoW')[0]\n",
    "act"
   ]
  },
  {
   "cell_type": "code",
   "execution_count": 88,
   "metadata": {
    "collapsed": true
   },
   "outputs": [],
   "source": [
    "na = act.copy()"
   ]
  },
  {
   "cell_type": "code",
   "execution_count": 89,
   "metadata": {},
   "outputs": [
    {
     "name": "stdout",
     "output_type": "stream",
     "text": [
      "Successfully switch activity dataset to database `soilimpacts`\n"
     ]
    }
   ],
   "source": [
    "na['database'] = 'soilimpacts'\n",
    "na['comment'] = \"This dataset is a copy of the ecoinvent dataset 'soybean production'\\\n",
    "                 (kilogram, RoW, None) for which machinery has been adapted\"\n",
    "na['name'] = 'soybean production, GLO, medium'\n",
    "na['unit'] = 'kilogram'\n",
    "na['location'] = 'GLO'\n",
    "na['classifications'] = [('ISIC rev.4 ecoinvent', '0111:Growing of cereals (except rice), leguminous crops and oil seeds')]\n",
    "na.save()"
   ]
  },
  {
   "cell_type": "code",
   "execution_count": 90,
   "metadata": {
    "collapsed": true
   },
   "outputs": [],
   "source": [
    "activity_processes = ['tillage, ploughing, M',\n",
    "                      'tillage, harrowing, by spring tine harrow, M',\n",
    "                      'sowing, M',\n",
    "                      'fertilising, by broadcaster, M',\n",
    "                      'application of plant protection product, by field sprayer, M',\n",
    "                      'harvesting, combine harvesting, M']"
   ]
  },
  {
   "cell_type": "code",
   "execution_count": 91,
   "metadata": {
    "collapsed": true
   },
   "outputs": [],
   "source": [
    "replace_exchanges(na, fw_processes, activity_processes)"
   ]
  },
  {
   "cell_type": "code",
   "execution_count": 92,
   "metadata": {
    "collapsed": true
   },
   "outputs": [],
   "source": [
    "exc = db_soil.search('transfer')[1]\n",
    "new_exc = na.new_exchange(input=exc, amount=1, type='technosphere')\n",
    "new_exc.save()"
   ]
  },
  {
   "cell_type": "code",
   "execution_count": 93,
   "metadata": {
    "collapsed": true
   },
   "outputs": [],
   "source": [
    "for a in activity_processes:\n",
    "    act = [exc.input for exc in na.technosphere() if a in str(exc)][0]\n",
    "    [exc.delete() for exc in na.technosphere() if a in str(exc)]\n",
    "    new_amount = na.new_exchange(input=act, amount=1/2600, type='technosphere')\n",
    "    new_amount.save()"
   ]
  },
  {
   "cell_type": "code",
   "execution_count": 94,
   "metadata": {
    "collapsed": true
   },
   "outputs": [],
   "source": [
    "p = 'tillage, ploughing, M'\n",
    "a = 1/2600/4"
   ]
  },
  {
   "cell_type": "code",
   "execution_count": 95,
   "metadata": {
    "collapsed": true
   },
   "outputs": [],
   "source": [
    "replace_amounts(na, p, a)"
   ]
  },
  {
   "cell_type": "code",
   "execution_count": 96,
   "metadata": {},
   "outputs": [
    {
     "data": {
      "text/plain": [
       "[Exchange: 1 unit 'harvesting, transfer trailer, L' (unit, GLO, None) to 'soybean production, GLO, medium' (kilogram, GLO, None)>,\n",
       " Exchange: 0.0003846153846153846 hectare 'tillage, harrowing, by spring tine harrow, M' (hectare, GLO, None) to 'soybean production, GLO, medium' (kilogram, GLO, None)>,\n",
       " Exchange: 0.0003846153846153846 hectare 'sowing, M' (hectare, GLO, None) to 'soybean production, GLO, medium' (kilogram, GLO, None)>,\n",
       " Exchange: 0.0003846153846153846 hectare 'fertilising, by broadcaster, M' (hectare, GLO, None) to 'soybean production, GLO, medium' (kilogram, GLO, None)>,\n",
       " Exchange: 0.0003846153846153846 hectare 'application of plant protection product, by field sprayer, M' (hectare, GLO, None) to 'soybean production, GLO, medium' (kilogram, GLO, None)>,\n",
       " Exchange: 0.0003846153846153846 hectare 'harvesting, combine harvesting, M' (hectare, GLO, None) to 'soybean production, GLO, medium' (kilogram, GLO, None)>,\n",
       " Exchange: 9.615384615384615e-05 hectare 'tillage, ploughing, M' (hectare, GLO, None) to 'soybean production, GLO, medium' (kilogram, GLO, None)>]"
      ]
     },
     "execution_count": 96,
     "metadata": {},
     "output_type": "execute_result"
    }
   ],
   "source": [
    "check_exchanges(na)"
   ]
  },
  {
   "cell_type": "markdown",
   "metadata": {},
   "source": [
    "Large:"
   ]
  },
  {
   "cell_type": "code",
   "execution_count": 97,
   "metadata": {},
   "outputs": [
    {
     "data": {
      "text/plain": [
       "'soybean production' (kilogram, RoW, None)"
      ]
     },
     "execution_count": 97,
     "metadata": {},
     "output_type": "execute_result"
    }
   ],
   "source": [
    "act = db.search('soybean production RoW')[0]\n",
    "act"
   ]
  },
  {
   "cell_type": "code",
   "execution_count": 98,
   "metadata": {
    "collapsed": true
   },
   "outputs": [],
   "source": [
    "na = act.copy()"
   ]
  },
  {
   "cell_type": "code",
   "execution_count": 99,
   "metadata": {},
   "outputs": [
    {
     "name": "stdout",
     "output_type": "stream",
     "text": [
      "Successfully switch activity dataset to database `soilimpacts`\n"
     ]
    }
   ],
   "source": [
    "na['database'] = 'soilimpacts'\n",
    "na['comment'] = \"This dataset is a copy of the ecoinvent dataset 'soybean production'\\\n",
    "                 (kilogram, RoW, None) for which machinery has been adapted\"\n",
    "na['name'] = 'soybean production, GLO, large'\n",
    "na['unit'] = 'kilogram'\n",
    "na['location'] = 'GLO'\n",
    "na['classifications'] = [('ISIC rev.4 ecoinvent', '0111:Growing of cereals (except rice), leguminous crops and oil seeds')]\n",
    "na.save()"
   ]
  },
  {
   "cell_type": "code",
   "execution_count": 100,
   "metadata": {
    "collapsed": true
   },
   "outputs": [],
   "source": [
    "activity_processes = ['tillage, ploughing, L',\n",
    "                      'tillage, harrowing, by spring tine harrow, L',\n",
    "                      'sowing, M',\n",
    "                      'fertilising, by broadcaster, L',\n",
    "                      'application of plant protection product, by field sprayer, L',\n",
    "                      'harvesting, combine harvesting, L']"
   ]
  },
  {
   "cell_type": "code",
   "execution_count": 101,
   "metadata": {
    "collapsed": true
   },
   "outputs": [],
   "source": [
    "replace_exchanges(na, fw_processes, activity_processes)"
   ]
  },
  {
   "cell_type": "code",
   "execution_count": 102,
   "metadata": {
    "collapsed": true
   },
   "outputs": [],
   "source": [
    "exc = db_soil.search('transfer')[2]\n",
    "new_exc = na.new_exchange(input=exc, amount=1, type='technosphere')\n",
    "new_exc.save()"
   ]
  },
  {
   "cell_type": "code",
   "execution_count": 103,
   "metadata": {
    "collapsed": true
   },
   "outputs": [],
   "source": [
    "for a in activity_processes:\n",
    "    act = [exc.input for exc in na.technosphere() if a in str(exc)][0]\n",
    "    [exc.delete() for exc in na.technosphere() if a in str(exc)]\n",
    "    new_amount = na.new_exchange(input=act, amount=1/2600, type='technosphere')\n",
    "    new_amount.save()"
   ]
  },
  {
   "cell_type": "code",
   "execution_count": 104,
   "metadata": {
    "collapsed": true
   },
   "outputs": [],
   "source": [
    "p = 'tillage, ploughing, L'\n",
    "a = 1/2600/4"
   ]
  },
  {
   "cell_type": "code",
   "execution_count": 105,
   "metadata": {
    "collapsed": true
   },
   "outputs": [],
   "source": [
    "replace_amounts(na, p, a)"
   ]
  },
  {
   "cell_type": "code",
   "execution_count": 106,
   "metadata": {},
   "outputs": [
    {
     "data": {
      "text/plain": [
       "[Exchange: 1 unit 'harvesting, transfer trailer, S' (unit, GLO, None) to 'soybean production, GLO, large' (kilogram, GLO, None)>,\n",
       " Exchange: 0.0003846153846153846 hectare 'tillage, harrowing, by spring tine harrow, L' (hectare, GLO, None) to 'soybean production, GLO, large' (kilogram, GLO, None)>,\n",
       " Exchange: 0.0003846153846153846 hectare 'sowing, M' (hectare, GLO, None) to 'soybean production, GLO, large' (kilogram, GLO, None)>,\n",
       " Exchange: 0.0003846153846153846 hectare 'fertilising, by broadcaster, L' (hectare, GLO, None) to 'soybean production, GLO, large' (kilogram, GLO, None)>,\n",
       " Exchange: 0.0003846153846153846 hectare 'application of plant protection product, by field sprayer, L' (hectare, GLO, None) to 'soybean production, GLO, large' (kilogram, GLO, None)>,\n",
       " Exchange: 0.0003846153846153846 hectare 'harvesting, combine harvesting, L' (hectare, GLO, None) to 'soybean production, GLO, large' (kilogram, GLO, None)>,\n",
       " Exchange: 9.615384615384615e-05 hectare 'tillage, ploughing, L' (hectare, GLO, None) to 'soybean production, GLO, large' (kilogram, GLO, None)>]"
      ]
     },
     "execution_count": 106,
     "metadata": {},
     "output_type": "execute_result"
    }
   ],
   "source": [
    "check_exchanges(na)"
   ]
  },
  {
   "cell_type": "code",
   "execution_count": null,
   "metadata": {
    "collapsed": true
   },
   "outputs": [],
   "source": []
  },
  {
   "cell_type": "code",
   "execution_count": 107,
   "metadata": {},
   "outputs": [
    {
     "data": {
      "text/plain": [
       "['soybean production, GLO, large' (kilogram, GLO, None),\n",
       " 'soybean production, GLO, small' (kilogram, GLO, None),\n",
       " 'soybean production, GLO, medium' (kilogram, GLO, None)]"
      ]
     },
     "execution_count": 107,
     "metadata": {},
     "output_type": "execute_result"
    }
   ],
   "source": [
    "db_soil.search('soybean production')"
   ]
  },
  {
   "cell_type": "code",
   "execution_count": 108,
   "metadata": {},
   "outputs": [
    {
     "data": {
      "text/plain": [
       "['market for organophosphorus-compound, unspecified' (kilogram, GLO, None),\n",
       " 'market for dinitroaniline-compound' (kilogram, GLO, None),\n",
       " 'market for benzimidazole-compound' (kilogram, GLO, None),\n",
       " 'market for lime' (kilogram, RER, None),\n",
       " 'market for benzo[thia]diazole-compound' (kilogram, GLO, None),\n",
       " 'market for urea, as N' (kilogram, GLO, None),\n",
       " 'market for potassium chloride, as K2O' (kilogram, GLO, None),\n",
       " 'market for ammonium nitrate, as N' (kilogram, GLO, None),\n",
       " 'market for phosphate rock, as P2O5, beneficiated, dry' (kilogram, GLO, None),\n",
       " 'market for soybean seed, for sowing' (kilogram, GLO, None),\n",
       " 'market for [sulfonyl]urea-compound' (kilogram, GLO, None),\n",
       " 'market for [thio]carbamate-compound' (kilogram, GLO, None),\n",
       " 'market for phosphate fertiliser, as P2O5' (kilogram, GLO, None),\n",
       " 'market for acetamide-anillide-compound, unspecified' (kilogram, GLO, None),\n",
       " 'market for pyrethroid-compound' (kilogram, GLO, None),\n",
       " 'market for ammonia, liquid' (kilogram, RER, None),\n",
       " 'market for pesticide, unspecified' (kilogram, GLO, None),\n",
       " 'market for diphenylether-compound' (kilogram, GLO, None),\n",
       " 'market for phenoxy-compound' (kilogram, GLO, None),\n",
       " 'market for triazine-compound, unspecified' (kilogram, GLO, None),\n",
       " 'harvesting, transfer trailer, S' (unit, GLO, None),\n",
       " 'tillage, harrowing, by spring tine harrow, L' (hectare, GLO, None),\n",
       " 'sowing, M' (hectare, GLO, None),\n",
       " 'fertilising, by broadcaster, L' (hectare, GLO, None),\n",
       " 'application of plant protection product, by field sprayer, L' (hectare, GLO, None),\n",
       " 'harvesting, combine harvesting, L' (hectare, GLO, None),\n",
       " 'tillage, ploughing, L' (hectare, GLO, None)]"
      ]
     },
     "execution_count": 108,
     "metadata": {},
     "output_type": "execute_result"
    }
   ],
   "source": [
    "[exc.input for exc in db_soil.search('soybean production')[0].technosphere()]"
   ]
  },
  {
   "cell_type": "code",
   "execution_count": 109,
   "metadata": {},
   "outputs": [
    {
     "data": {
      "text/plain": [
       "['market for organophosphorus-compound, unspecified' (kilogram, GLO, None),\n",
       " 'market for dinitroaniline-compound' (kilogram, GLO, None),\n",
       " 'market for benzimidazole-compound' (kilogram, GLO, None),\n",
       " 'market for lime' (kilogram, RER, None),\n",
       " 'market for benzo[thia]diazole-compound' (kilogram, GLO, None),\n",
       " 'market for urea, as N' (kilogram, GLO, None),\n",
       " 'market for potassium chloride, as K2O' (kilogram, GLO, None),\n",
       " 'market for ammonium nitrate, as N' (kilogram, GLO, None),\n",
       " 'market for phosphate rock, as P2O5, beneficiated, dry' (kilogram, GLO, None),\n",
       " 'market for soybean seed, for sowing' (kilogram, GLO, None),\n",
       " 'market for [sulfonyl]urea-compound' (kilogram, GLO, None),\n",
       " 'market for [thio]carbamate-compound' (kilogram, GLO, None),\n",
       " 'market for phosphate fertiliser, as P2O5' (kilogram, GLO, None),\n",
       " 'market for acetamide-anillide-compound, unspecified' (kilogram, GLO, None),\n",
       " 'market for pyrethroid-compound' (kilogram, GLO, None),\n",
       " 'market for ammonia, liquid' (kilogram, RER, None),\n",
       " 'market for pesticide, unspecified' (kilogram, GLO, None),\n",
       " 'market for diphenylether-compound' (kilogram, GLO, None),\n",
       " 'market for phenoxy-compound' (kilogram, GLO, None),\n",
       " 'market for triazine-compound, unspecified' (kilogram, GLO, None),\n",
       " 'harvesting, transfer trailer, M' (unit, GLO, None),\n",
       " 'tillage, harrowing, by spring tine harrow, S' (hectare, GLO, None),\n",
       " 'sowing, S' (hectare, GLO, None),\n",
       " 'fertilising, by broadcaster, S' (hectare, GLO, None),\n",
       " 'application of plant protection product, by field sprayer, S' (hectare, GLO, None),\n",
       " 'harvesting, combine harvesting, S' (hectare, GLO, None),\n",
       " 'tillage, ploughing, S' (hectare, GLO, None)]"
      ]
     },
     "execution_count": 109,
     "metadata": {},
     "output_type": "execute_result"
    }
   ],
   "source": [
    "[exc.input for exc in db_soil.search('soybean production')[1].technosphere()]"
   ]
  },
  {
   "cell_type": "code",
   "execution_count": 110,
   "metadata": {},
   "outputs": [
    {
     "data": {
      "text/plain": [
       "['market for organophosphorus-compound, unspecified' (kilogram, GLO, None),\n",
       " 'market for dinitroaniline-compound' (kilogram, GLO, None),\n",
       " 'market for benzimidazole-compound' (kilogram, GLO, None),\n",
       " 'market for lime' (kilogram, RER, None),\n",
       " 'market for benzo[thia]diazole-compound' (kilogram, GLO, None),\n",
       " 'market for urea, as N' (kilogram, GLO, None),\n",
       " 'market for potassium chloride, as K2O' (kilogram, GLO, None),\n",
       " 'market for ammonium nitrate, as N' (kilogram, GLO, None),\n",
       " 'market for phosphate rock, as P2O5, beneficiated, dry' (kilogram, GLO, None),\n",
       " 'market for soybean seed, for sowing' (kilogram, GLO, None),\n",
       " 'market for [sulfonyl]urea-compound' (kilogram, GLO, None),\n",
       " 'market for [thio]carbamate-compound' (kilogram, GLO, None),\n",
       " 'market for phosphate fertiliser, as P2O5' (kilogram, GLO, None),\n",
       " 'market for acetamide-anillide-compound, unspecified' (kilogram, GLO, None),\n",
       " 'market for pyrethroid-compound' (kilogram, GLO, None),\n",
       " 'market for ammonia, liquid' (kilogram, RER, None),\n",
       " 'market for pesticide, unspecified' (kilogram, GLO, None),\n",
       " 'market for diphenylether-compound' (kilogram, GLO, None),\n",
       " 'market for phenoxy-compound' (kilogram, GLO, None),\n",
       " 'market for triazine-compound, unspecified' (kilogram, GLO, None),\n",
       " 'harvesting, transfer trailer, L' (unit, GLO, None),\n",
       " 'tillage, harrowing, by spring tine harrow, M' (hectare, GLO, None),\n",
       " 'sowing, M' (hectare, GLO, None),\n",
       " 'fertilising, by broadcaster, M' (hectare, GLO, None),\n",
       " 'application of plant protection product, by field sprayer, M' (hectare, GLO, None),\n",
       " 'harvesting, combine harvesting, M' (hectare, GLO, None),\n",
       " 'tillage, ploughing, M' (hectare, GLO, None)]"
      ]
     },
     "execution_count": 110,
     "metadata": {},
     "output_type": "execute_result"
    }
   ],
   "source": [
    "[exc.input for exc in db_soil.search('soybean production')[2].technosphere()]"
   ]
  },
  {
   "cell_type": "code",
   "execution_count": null,
   "metadata": {
    "collapsed": true
   },
   "outputs": [],
   "source": []
  },
  {
   "cell_type": "code",
   "execution_count": 111,
   "metadata": {},
   "outputs": [
    {
     "data": {
      "text/plain": [
       "'harvesting, transfer trailer, M' (unit, GLO, None)"
      ]
     },
     "execution_count": 111,
     "metadata": {},
     "output_type": "execute_result"
    }
   ],
   "source": [
    "db_soil.search('transfer')[0]"
   ]
  },
  {
   "cell_type": "code",
   "execution_count": null,
   "metadata": {
    "collapsed": true
   },
   "outputs": [],
   "source": []
  }
 ],
 "metadata": {
  "anaconda-cloud": {},
  "kernelspec": {
   "display_name": "Python [conda env:py37_bw2] *",
   "language": "python",
   "name": "conda-env-py37_bw2-py"
  },
  "language_info": {
   "codemirror_mode": {
    "name": "ipython",
    "version": 3
   },
   "file_extension": ".py",
   "mimetype": "text/x-python",
   "name": "python",
   "nbconvert_exporter": "python",
   "pygments_lexer": "ipython3",
   "version": "3.7.7"
  }
 },
 "nbformat": 4,
 "nbformat_minor": 2
}
